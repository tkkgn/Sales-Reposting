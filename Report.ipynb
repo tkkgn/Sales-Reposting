{
  "nbformat": 4,
  "nbformat_minor": 0,
  "metadata": {
    "colab": {
      "name": "Report.ipynb",
      "provenance": [],
      "collapsed_sections": []
    },
    "kernelspec": {
      "name": "python3",
      "display_name": "Python 3"
    },
    "language_info": {
      "name": "python"
    }
  },
  "cells": [
    {
      "cell_type": "markdown",
      "source": [
        "# Importing Data"
      ],
      "metadata": {
        "id": "cD50W-VGWfSD"
      }
    },
    {
      "cell_type": "code",
      "execution_count": 1,
      "metadata": {
        "id": "v3ZfhsMDBvEt"
      },
      "outputs": [],
      "source": [
        "import pandas as pd\n",
        "import os\n",
        "import matplotlib.pyplot as plt"
      ]
    },
    {
      "cell_type": "code",
      "source": [
        "from google.colab import drive\n",
        "drive.mount('/content/drive')"
      ],
      "metadata": {
        "colab": {
          "base_uri": "https://localhost:8080/"
        },
        "id": "3W9YIQ_RKORw",
        "outputId": "3ffde05c-9e49-45cd-ff3b-c942b4cab593"
      },
      "execution_count": 2,
      "outputs": [
        {
          "output_type": "stream",
          "name": "stdout",
          "text": [
            "Drive already mounted at /content/drive; to attempt to forcibly remount, call drive.mount(\"/content/drive\", force_remount=True).\n"
          ]
        }
      ]
    },
    {
      "cell_type": "code",
      "source": [
        "path = '/content/drive/MyDrive/SalesReporting/'\n",
        "df = pd.read_csv(path + 'sales2019_1.csv')"
      ],
      "metadata": {
        "id": "iWCzDVZkDBBu"
      },
      "execution_count": 3,
      "outputs": []
    },
    {
      "cell_type": "code",
      "source": [
        "df.head()"
      ],
      "metadata": {
        "colab": {
          "base_uri": "https://localhost:8080/",
          "height": 201
        },
        "id": "Wx0vpZJoDJwN",
        "outputId": "1cc3add4-da1c-471c-d820-f3732a40cf04"
      },
      "execution_count": 4,
      "outputs": [
        {
          "output_type": "execute_result",
          "data": {
            "text/plain": [
              "  Order ID                   Product Quantity Ordered Price Each  \\\n",
              "0   141234                    iPhone                1        700   \n",
              "1   141235  Lightning Charging Cable                1      14.95   \n",
              "2   141236          Wired Headphones                2      11.99   \n",
              "3   141237          27in FHD Monitor                1     149.99   \n",
              "4   141238          Wired Headphones                1      11.99   \n",
              "\n",
              "       Order Date                       Purchase Address  \n",
              "0  01/22/19 21:25        944 Walnut St, Boston, MA 02215  \n",
              "1  01/28/19 14:15       185 Maple St, Portland, OR 97035  \n",
              "2  01/17/19 13:33  538 Adams St, San Francisco, CA 94016  \n",
              "3  01/05/19 20:33     738 10th St, Los Angeles, CA 90001  \n",
              "4  01/25/19 11:59          387 10th St, Austin, TX 73301  "
            ],
            "text/html": [
              "\n",
              "  <div id=\"df-eccc408b-06ca-4a08-85f4-83427e3eb8ab\">\n",
              "    <div class=\"colab-df-container\">\n",
              "      <div>\n",
              "<style scoped>\n",
              "    .dataframe tbody tr th:only-of-type {\n",
              "        vertical-align: middle;\n",
              "    }\n",
              "\n",
              "    .dataframe tbody tr th {\n",
              "        vertical-align: top;\n",
              "    }\n",
              "\n",
              "    .dataframe thead th {\n",
              "        text-align: right;\n",
              "    }\n",
              "</style>\n",
              "<table border=\"1\" class=\"dataframe\">\n",
              "  <thead>\n",
              "    <tr style=\"text-align: right;\">\n",
              "      <th></th>\n",
              "      <th>Order ID</th>\n",
              "      <th>Product</th>\n",
              "      <th>Quantity Ordered</th>\n",
              "      <th>Price Each</th>\n",
              "      <th>Order Date</th>\n",
              "      <th>Purchase Address</th>\n",
              "    </tr>\n",
              "  </thead>\n",
              "  <tbody>\n",
              "    <tr>\n",
              "      <th>0</th>\n",
              "      <td>141234</td>\n",
              "      <td>iPhone</td>\n",
              "      <td>1</td>\n",
              "      <td>700</td>\n",
              "      <td>01/22/19 21:25</td>\n",
              "      <td>944 Walnut St, Boston, MA 02215</td>\n",
              "    </tr>\n",
              "    <tr>\n",
              "      <th>1</th>\n",
              "      <td>141235</td>\n",
              "      <td>Lightning Charging Cable</td>\n",
              "      <td>1</td>\n",
              "      <td>14.95</td>\n",
              "      <td>01/28/19 14:15</td>\n",
              "      <td>185 Maple St, Portland, OR 97035</td>\n",
              "    </tr>\n",
              "    <tr>\n",
              "      <th>2</th>\n",
              "      <td>141236</td>\n",
              "      <td>Wired Headphones</td>\n",
              "      <td>2</td>\n",
              "      <td>11.99</td>\n",
              "      <td>01/17/19 13:33</td>\n",
              "      <td>538 Adams St, San Francisco, CA 94016</td>\n",
              "    </tr>\n",
              "    <tr>\n",
              "      <th>3</th>\n",
              "      <td>141237</td>\n",
              "      <td>27in FHD Monitor</td>\n",
              "      <td>1</td>\n",
              "      <td>149.99</td>\n",
              "      <td>01/05/19 20:33</td>\n",
              "      <td>738 10th St, Los Angeles, CA 90001</td>\n",
              "    </tr>\n",
              "    <tr>\n",
              "      <th>4</th>\n",
              "      <td>141238</td>\n",
              "      <td>Wired Headphones</td>\n",
              "      <td>1</td>\n",
              "      <td>11.99</td>\n",
              "      <td>01/25/19 11:59</td>\n",
              "      <td>387 10th St, Austin, TX 73301</td>\n",
              "    </tr>\n",
              "  </tbody>\n",
              "</table>\n",
              "</div>\n",
              "      <button class=\"colab-df-convert\" onclick=\"convertToInteractive('df-eccc408b-06ca-4a08-85f4-83427e3eb8ab')\"\n",
              "              title=\"Convert this dataframe to an interactive table.\"\n",
              "              style=\"display:none;\">\n",
              "        \n",
              "  <svg xmlns=\"http://www.w3.org/2000/svg\" height=\"24px\"viewBox=\"0 0 24 24\"\n",
              "       width=\"24px\">\n",
              "    <path d=\"M0 0h24v24H0V0z\" fill=\"none\"/>\n",
              "    <path d=\"M18.56 5.44l.94 2.06.94-2.06 2.06-.94-2.06-.94-.94-2.06-.94 2.06-2.06.94zm-11 1L8.5 8.5l.94-2.06 2.06-.94-2.06-.94L8.5 2.5l-.94 2.06-2.06.94zm10 10l.94 2.06.94-2.06 2.06-.94-2.06-.94-.94-2.06-.94 2.06-2.06.94z\"/><path d=\"M17.41 7.96l-1.37-1.37c-.4-.4-.92-.59-1.43-.59-.52 0-1.04.2-1.43.59L10.3 9.45l-7.72 7.72c-.78.78-.78 2.05 0 2.83L4 21.41c.39.39.9.59 1.41.59.51 0 1.02-.2 1.41-.59l7.78-7.78 2.81-2.81c.8-.78.8-2.07 0-2.86zM5.41 20L4 18.59l7.72-7.72 1.47 1.35L5.41 20z\"/>\n",
              "  </svg>\n",
              "      </button>\n",
              "      \n",
              "  <style>\n",
              "    .colab-df-container {\n",
              "      display:flex;\n",
              "      flex-wrap:wrap;\n",
              "      gap: 12px;\n",
              "    }\n",
              "\n",
              "    .colab-df-convert {\n",
              "      background-color: #E8F0FE;\n",
              "      border: none;\n",
              "      border-radius: 50%;\n",
              "      cursor: pointer;\n",
              "      display: none;\n",
              "      fill: #1967D2;\n",
              "      height: 32px;\n",
              "      padding: 0 0 0 0;\n",
              "      width: 32px;\n",
              "    }\n",
              "\n",
              "    .colab-df-convert:hover {\n",
              "      background-color: #E2EBFA;\n",
              "      box-shadow: 0px 1px 2px rgba(60, 64, 67, 0.3), 0px 1px 3px 1px rgba(60, 64, 67, 0.15);\n",
              "      fill: #174EA6;\n",
              "    }\n",
              "\n",
              "    [theme=dark] .colab-df-convert {\n",
              "      background-color: #3B4455;\n",
              "      fill: #D2E3FC;\n",
              "    }\n",
              "\n",
              "    [theme=dark] .colab-df-convert:hover {\n",
              "      background-color: #434B5C;\n",
              "      box-shadow: 0px 1px 3px 1px rgba(0, 0, 0, 0.15);\n",
              "      filter: drop-shadow(0px 1px 2px rgba(0, 0, 0, 0.3));\n",
              "      fill: #FFFFFF;\n",
              "    }\n",
              "  </style>\n",
              "\n",
              "      <script>\n",
              "        const buttonEl =\n",
              "          document.querySelector('#df-eccc408b-06ca-4a08-85f4-83427e3eb8ab button.colab-df-convert');\n",
              "        buttonEl.style.display =\n",
              "          google.colab.kernel.accessAllowed ? 'block' : 'none';\n",
              "\n",
              "        async function convertToInteractive(key) {\n",
              "          const element = document.querySelector('#df-eccc408b-06ca-4a08-85f4-83427e3eb8ab');\n",
              "          const dataTable =\n",
              "            await google.colab.kernel.invokeFunction('convertToInteractive',\n",
              "                                                     [key], {});\n",
              "          if (!dataTable) return;\n",
              "\n",
              "          const docLinkHtml = 'Like what you see? Visit the ' +\n",
              "            '<a target=\"_blank\" href=https://colab.research.google.com/notebooks/data_table.ipynb>data table notebook</a>'\n",
              "            + ' to learn more about interactive tables.';\n",
              "          element.innerHTML = '';\n",
              "          dataTable['output_type'] = 'display_data';\n",
              "          await google.colab.output.renderOutput(dataTable, element);\n",
              "          const docLink = document.createElement('div');\n",
              "          docLink.innerHTML = docLinkHtml;\n",
              "          element.appendChild(docLink);\n",
              "        }\n",
              "      </script>\n",
              "    </div>\n",
              "  </div>\n",
              "  "
            ]
          },
          "metadata": {},
          "execution_count": 4
        }
      ]
    },
    {
      "cell_type": "code",
      "source": [
        "df.info()"
      ],
      "metadata": {
        "colab": {
          "base_uri": "https://localhost:8080/"
        },
        "id": "jpTD8MB5DUtO",
        "outputId": "d872f76b-be9d-47e5-b409-5c0f1f46a2fe"
      },
      "execution_count": 5,
      "outputs": [
        {
          "output_type": "stream",
          "name": "stdout",
          "text": [
            "<class 'pandas.core.frame.DataFrame'>\n",
            "RangeIndex: 9723 entries, 0 to 9722\n",
            "Data columns (total 6 columns):\n",
            " #   Column            Non-Null Count  Dtype \n",
            "---  ------            --------------  ----- \n",
            " 0   Order ID          9697 non-null   object\n",
            " 1   Product           9697 non-null   object\n",
            " 2   Quantity Ordered  9697 non-null   object\n",
            " 3   Price Each        9697 non-null   object\n",
            " 4   Order Date        9697 non-null   object\n",
            " 5   Purchase Address  9697 non-null   object\n",
            "dtypes: object(6)\n",
            "memory usage: 455.9+ KB\n"
          ]
        }
      ]
    },
    {
      "cell_type": "markdown",
      "source": [
        "# Merge And Clean Data"
      ],
      "metadata": {
        "id": "ZBc2rWl9Wk5s"
      }
    },
    {
      "cell_type": "code",
      "source": [
        "filepaths = []\n",
        "frames = []\n",
        "for file in os.listdir(path):\n",
        "  filepath = path + file\n",
        "  filepaths.append(filepath)\n",
        "  df_temp = pd.read_csv(filepath)\n",
        "  frames.append(df_temp)\n",
        "df = pd.concat(frames)"
      ],
      "metadata": {
        "id": "DjpaKRLFMb7n"
      },
      "execution_count": 6,
      "outputs": []
    },
    {
      "cell_type": "code",
      "source": [
        "df['Order Date'].str[:2]\n",
        "df['Month'] = df['Order Date'].str[:2]\n",
        "df.head()\n"
      ],
      "metadata": {
        "colab": {
          "base_uri": "https://localhost:8080/",
          "height": 201
        },
        "id": "y9Yk_wMXSkyn",
        "outputId": "d8d0f0e6-2a67-4641-92dd-5e816123a9d2"
      },
      "execution_count": 7,
      "outputs": [
        {
          "output_type": "execute_result",
          "data": {
            "text/plain": [
              "  Order ID                Product Quantity Ordered Price Each      Order Date  \\\n",
              "0   248151  AA Batteries (4-pack)                4       3.84  09/17/19 14:44   \n",
              "1   248152   USB-C Charging Cable                2      11.95  09/29/19 10:19   \n",
              "2   248153   USB-C Charging Cable                1      11.95  09/16/19 17:48   \n",
              "3   248154       27in FHD Monitor                1     149.99  09/27/19 07:52   \n",
              "4   248155   USB-C Charging Cable                1      11.95  09/01/19 19:03   \n",
              "\n",
              "                        Purchase Address Month  \n",
              "0    380 North St, Los Angeles, CA 90001    09  \n",
              "1           511 8th St, Austin, TX 73301    09  \n",
              "2  151 Johnson St, Los Angeles, CA 90001    09  \n",
              "3      355 Hickory St, Seattle, WA 98101    09  \n",
              "4          125 5th St, Atlanta, GA 30301    09  "
            ],
            "text/html": [
              "\n",
              "  <div id=\"df-e05e4ab5-eb65-4230-83a2-5aef454afd92\">\n",
              "    <div class=\"colab-df-container\">\n",
              "      <div>\n",
              "<style scoped>\n",
              "    .dataframe tbody tr th:only-of-type {\n",
              "        vertical-align: middle;\n",
              "    }\n",
              "\n",
              "    .dataframe tbody tr th {\n",
              "        vertical-align: top;\n",
              "    }\n",
              "\n",
              "    .dataframe thead th {\n",
              "        text-align: right;\n",
              "    }\n",
              "</style>\n",
              "<table border=\"1\" class=\"dataframe\">\n",
              "  <thead>\n",
              "    <tr style=\"text-align: right;\">\n",
              "      <th></th>\n",
              "      <th>Order ID</th>\n",
              "      <th>Product</th>\n",
              "      <th>Quantity Ordered</th>\n",
              "      <th>Price Each</th>\n",
              "      <th>Order Date</th>\n",
              "      <th>Purchase Address</th>\n",
              "      <th>Month</th>\n",
              "    </tr>\n",
              "  </thead>\n",
              "  <tbody>\n",
              "    <tr>\n",
              "      <th>0</th>\n",
              "      <td>248151</td>\n",
              "      <td>AA Batteries (4-pack)</td>\n",
              "      <td>4</td>\n",
              "      <td>3.84</td>\n",
              "      <td>09/17/19 14:44</td>\n",
              "      <td>380 North St, Los Angeles, CA 90001</td>\n",
              "      <td>09</td>\n",
              "    </tr>\n",
              "    <tr>\n",
              "      <th>1</th>\n",
              "      <td>248152</td>\n",
              "      <td>USB-C Charging Cable</td>\n",
              "      <td>2</td>\n",
              "      <td>11.95</td>\n",
              "      <td>09/29/19 10:19</td>\n",
              "      <td>511 8th St, Austin, TX 73301</td>\n",
              "      <td>09</td>\n",
              "    </tr>\n",
              "    <tr>\n",
              "      <th>2</th>\n",
              "      <td>248153</td>\n",
              "      <td>USB-C Charging Cable</td>\n",
              "      <td>1</td>\n",
              "      <td>11.95</td>\n",
              "      <td>09/16/19 17:48</td>\n",
              "      <td>151 Johnson St, Los Angeles, CA 90001</td>\n",
              "      <td>09</td>\n",
              "    </tr>\n",
              "    <tr>\n",
              "      <th>3</th>\n",
              "      <td>248154</td>\n",
              "      <td>27in FHD Monitor</td>\n",
              "      <td>1</td>\n",
              "      <td>149.99</td>\n",
              "      <td>09/27/19 07:52</td>\n",
              "      <td>355 Hickory St, Seattle, WA 98101</td>\n",
              "      <td>09</td>\n",
              "    </tr>\n",
              "    <tr>\n",
              "      <th>4</th>\n",
              "      <td>248155</td>\n",
              "      <td>USB-C Charging Cable</td>\n",
              "      <td>1</td>\n",
              "      <td>11.95</td>\n",
              "      <td>09/01/19 19:03</td>\n",
              "      <td>125 5th St, Atlanta, GA 30301</td>\n",
              "      <td>09</td>\n",
              "    </tr>\n",
              "  </tbody>\n",
              "</table>\n",
              "</div>\n",
              "      <button class=\"colab-df-convert\" onclick=\"convertToInteractive('df-e05e4ab5-eb65-4230-83a2-5aef454afd92')\"\n",
              "              title=\"Convert this dataframe to an interactive table.\"\n",
              "              style=\"display:none;\">\n",
              "        \n",
              "  <svg xmlns=\"http://www.w3.org/2000/svg\" height=\"24px\"viewBox=\"0 0 24 24\"\n",
              "       width=\"24px\">\n",
              "    <path d=\"M0 0h24v24H0V0z\" fill=\"none\"/>\n",
              "    <path d=\"M18.56 5.44l.94 2.06.94-2.06 2.06-.94-2.06-.94-.94-2.06-.94 2.06-2.06.94zm-11 1L8.5 8.5l.94-2.06 2.06-.94-2.06-.94L8.5 2.5l-.94 2.06-2.06.94zm10 10l.94 2.06.94-2.06 2.06-.94-2.06-.94-.94-2.06-.94 2.06-2.06.94z\"/><path d=\"M17.41 7.96l-1.37-1.37c-.4-.4-.92-.59-1.43-.59-.52 0-1.04.2-1.43.59L10.3 9.45l-7.72 7.72c-.78.78-.78 2.05 0 2.83L4 21.41c.39.39.9.59 1.41.59.51 0 1.02-.2 1.41-.59l7.78-7.78 2.81-2.81c.8-.78.8-2.07 0-2.86zM5.41 20L4 18.59l7.72-7.72 1.47 1.35L5.41 20z\"/>\n",
              "  </svg>\n",
              "      </button>\n",
              "      \n",
              "  <style>\n",
              "    .colab-df-container {\n",
              "      display:flex;\n",
              "      flex-wrap:wrap;\n",
              "      gap: 12px;\n",
              "    }\n",
              "\n",
              "    .colab-df-convert {\n",
              "      background-color: #E8F0FE;\n",
              "      border: none;\n",
              "      border-radius: 50%;\n",
              "      cursor: pointer;\n",
              "      display: none;\n",
              "      fill: #1967D2;\n",
              "      height: 32px;\n",
              "      padding: 0 0 0 0;\n",
              "      width: 32px;\n",
              "    }\n",
              "\n",
              "    .colab-df-convert:hover {\n",
              "      background-color: #E2EBFA;\n",
              "      box-shadow: 0px 1px 2px rgba(60, 64, 67, 0.3), 0px 1px 3px 1px rgba(60, 64, 67, 0.15);\n",
              "      fill: #174EA6;\n",
              "    }\n",
              "\n",
              "    [theme=dark] .colab-df-convert {\n",
              "      background-color: #3B4455;\n",
              "      fill: #D2E3FC;\n",
              "    }\n",
              "\n",
              "    [theme=dark] .colab-df-convert:hover {\n",
              "      background-color: #434B5C;\n",
              "      box-shadow: 0px 1px 3px 1px rgba(0, 0, 0, 0.15);\n",
              "      filter: drop-shadow(0px 1px 2px rgba(0, 0, 0, 0.3));\n",
              "      fill: #FFFFFF;\n",
              "    }\n",
              "  </style>\n",
              "\n",
              "      <script>\n",
              "        const buttonEl =\n",
              "          document.querySelector('#df-e05e4ab5-eb65-4230-83a2-5aef454afd92 button.colab-df-convert');\n",
              "        buttonEl.style.display =\n",
              "          google.colab.kernel.accessAllowed ? 'block' : 'none';\n",
              "\n",
              "        async function convertToInteractive(key) {\n",
              "          const element = document.querySelector('#df-e05e4ab5-eb65-4230-83a2-5aef454afd92');\n",
              "          const dataTable =\n",
              "            await google.colab.kernel.invokeFunction('convertToInteractive',\n",
              "                                                     [key], {});\n",
              "          if (!dataTable) return;\n",
              "\n",
              "          const docLinkHtml = 'Like what you see? Visit the ' +\n",
              "            '<a target=\"_blank\" href=https://colab.research.google.com/notebooks/data_table.ipynb>data table notebook</a>'\n",
              "            + ' to learn more about interactive tables.';\n",
              "          element.innerHTML = '';\n",
              "          dataTable['output_type'] = 'display_data';\n",
              "          await google.colab.output.renderOutput(dataTable, element);\n",
              "          const docLink = document.createElement('div');\n",
              "          docLink.innerHTML = docLinkHtml;\n",
              "          element.appendChild(docLink);\n",
              "        }\n",
              "      </script>\n",
              "    </div>\n",
              "  </div>\n",
              "  "
            ]
          },
          "metadata": {},
          "execution_count": 7
        }
      ]
    },
    {
      "cell_type": "code",
      "source": [
        "print(set(df['Month']))"
      ],
      "metadata": {
        "colab": {
          "base_uri": "https://localhost:8080/"
        },
        "id": "NsCzGEMeT5PK",
        "outputId": "922bdb09-9fe7-4aa9-cc8e-72f901d62357"
      },
      "execution_count": 8,
      "outputs": [
        {
          "output_type": "stream",
          "name": "stdout",
          "text": [
            "{nan, '04', '09', '05', '08', '02', '07', '10', '11', '01', '03', '06', 'Or', '12'}\n"
          ]
        }
      ]
    },
    {
      "cell_type": "code",
      "source": [
        "df = df.dropna(how='all')\n",
        "df = df[df['Month']!='Or']\n",
        "df.head()"
      ],
      "metadata": {
        "colab": {
          "base_uri": "https://localhost:8080/",
          "height": 201
        },
        "id": "TuNcoI7sUTxS",
        "outputId": "bb218546-a9f2-4540-f6c7-1d55b1d5bdd3"
      },
      "execution_count": 9,
      "outputs": [
        {
          "output_type": "execute_result",
          "data": {
            "text/plain": [
              "  Order ID                Product Quantity Ordered Price Each      Order Date  \\\n",
              "0   248151  AA Batteries (4-pack)                4       3.84  09/17/19 14:44   \n",
              "1   248152   USB-C Charging Cable                2      11.95  09/29/19 10:19   \n",
              "2   248153   USB-C Charging Cable                1      11.95  09/16/19 17:48   \n",
              "3   248154       27in FHD Monitor                1     149.99  09/27/19 07:52   \n",
              "4   248155   USB-C Charging Cable                1      11.95  09/01/19 19:03   \n",
              "\n",
              "                        Purchase Address Month  \n",
              "0    380 North St, Los Angeles, CA 90001    09  \n",
              "1           511 8th St, Austin, TX 73301    09  \n",
              "2  151 Johnson St, Los Angeles, CA 90001    09  \n",
              "3      355 Hickory St, Seattle, WA 98101    09  \n",
              "4          125 5th St, Atlanta, GA 30301    09  "
            ],
            "text/html": [
              "\n",
              "  <div id=\"df-14a99634-352d-4714-9bc4-e866785d46b4\">\n",
              "    <div class=\"colab-df-container\">\n",
              "      <div>\n",
              "<style scoped>\n",
              "    .dataframe tbody tr th:only-of-type {\n",
              "        vertical-align: middle;\n",
              "    }\n",
              "\n",
              "    .dataframe tbody tr th {\n",
              "        vertical-align: top;\n",
              "    }\n",
              "\n",
              "    .dataframe thead th {\n",
              "        text-align: right;\n",
              "    }\n",
              "</style>\n",
              "<table border=\"1\" class=\"dataframe\">\n",
              "  <thead>\n",
              "    <tr style=\"text-align: right;\">\n",
              "      <th></th>\n",
              "      <th>Order ID</th>\n",
              "      <th>Product</th>\n",
              "      <th>Quantity Ordered</th>\n",
              "      <th>Price Each</th>\n",
              "      <th>Order Date</th>\n",
              "      <th>Purchase Address</th>\n",
              "      <th>Month</th>\n",
              "    </tr>\n",
              "  </thead>\n",
              "  <tbody>\n",
              "    <tr>\n",
              "      <th>0</th>\n",
              "      <td>248151</td>\n",
              "      <td>AA Batteries (4-pack)</td>\n",
              "      <td>4</td>\n",
              "      <td>3.84</td>\n",
              "      <td>09/17/19 14:44</td>\n",
              "      <td>380 North St, Los Angeles, CA 90001</td>\n",
              "      <td>09</td>\n",
              "    </tr>\n",
              "    <tr>\n",
              "      <th>1</th>\n",
              "      <td>248152</td>\n",
              "      <td>USB-C Charging Cable</td>\n",
              "      <td>2</td>\n",
              "      <td>11.95</td>\n",
              "      <td>09/29/19 10:19</td>\n",
              "      <td>511 8th St, Austin, TX 73301</td>\n",
              "      <td>09</td>\n",
              "    </tr>\n",
              "    <tr>\n",
              "      <th>2</th>\n",
              "      <td>248153</td>\n",
              "      <td>USB-C Charging Cable</td>\n",
              "      <td>1</td>\n",
              "      <td>11.95</td>\n",
              "      <td>09/16/19 17:48</td>\n",
              "      <td>151 Johnson St, Los Angeles, CA 90001</td>\n",
              "      <td>09</td>\n",
              "    </tr>\n",
              "    <tr>\n",
              "      <th>3</th>\n",
              "      <td>248154</td>\n",
              "      <td>27in FHD Monitor</td>\n",
              "      <td>1</td>\n",
              "      <td>149.99</td>\n",
              "      <td>09/27/19 07:52</td>\n",
              "      <td>355 Hickory St, Seattle, WA 98101</td>\n",
              "      <td>09</td>\n",
              "    </tr>\n",
              "    <tr>\n",
              "      <th>4</th>\n",
              "      <td>248155</td>\n",
              "      <td>USB-C Charging Cable</td>\n",
              "      <td>1</td>\n",
              "      <td>11.95</td>\n",
              "      <td>09/01/19 19:03</td>\n",
              "      <td>125 5th St, Atlanta, GA 30301</td>\n",
              "      <td>09</td>\n",
              "    </tr>\n",
              "  </tbody>\n",
              "</table>\n",
              "</div>\n",
              "      <button class=\"colab-df-convert\" onclick=\"convertToInteractive('df-14a99634-352d-4714-9bc4-e866785d46b4')\"\n",
              "              title=\"Convert this dataframe to an interactive table.\"\n",
              "              style=\"display:none;\">\n",
              "        \n",
              "  <svg xmlns=\"http://www.w3.org/2000/svg\" height=\"24px\"viewBox=\"0 0 24 24\"\n",
              "       width=\"24px\">\n",
              "    <path d=\"M0 0h24v24H0V0z\" fill=\"none\"/>\n",
              "    <path d=\"M18.56 5.44l.94 2.06.94-2.06 2.06-.94-2.06-.94-.94-2.06-.94 2.06-2.06.94zm-11 1L8.5 8.5l.94-2.06 2.06-.94-2.06-.94L8.5 2.5l-.94 2.06-2.06.94zm10 10l.94 2.06.94-2.06 2.06-.94-2.06-.94-.94-2.06-.94 2.06-2.06.94z\"/><path d=\"M17.41 7.96l-1.37-1.37c-.4-.4-.92-.59-1.43-.59-.52 0-1.04.2-1.43.59L10.3 9.45l-7.72 7.72c-.78.78-.78 2.05 0 2.83L4 21.41c.39.39.9.59 1.41.59.51 0 1.02-.2 1.41-.59l7.78-7.78 2.81-2.81c.8-.78.8-2.07 0-2.86zM5.41 20L4 18.59l7.72-7.72 1.47 1.35L5.41 20z\"/>\n",
              "  </svg>\n",
              "      </button>\n",
              "      \n",
              "  <style>\n",
              "    .colab-df-container {\n",
              "      display:flex;\n",
              "      flex-wrap:wrap;\n",
              "      gap: 12px;\n",
              "    }\n",
              "\n",
              "    .colab-df-convert {\n",
              "      background-color: #E8F0FE;\n",
              "      border: none;\n",
              "      border-radius: 50%;\n",
              "      cursor: pointer;\n",
              "      display: none;\n",
              "      fill: #1967D2;\n",
              "      height: 32px;\n",
              "      padding: 0 0 0 0;\n",
              "      width: 32px;\n",
              "    }\n",
              "\n",
              "    .colab-df-convert:hover {\n",
              "      background-color: #E2EBFA;\n",
              "      box-shadow: 0px 1px 2px rgba(60, 64, 67, 0.3), 0px 1px 3px 1px rgba(60, 64, 67, 0.15);\n",
              "      fill: #174EA6;\n",
              "    }\n",
              "\n",
              "    [theme=dark] .colab-df-convert {\n",
              "      background-color: #3B4455;\n",
              "      fill: #D2E3FC;\n",
              "    }\n",
              "\n",
              "    [theme=dark] .colab-df-convert:hover {\n",
              "      background-color: #434B5C;\n",
              "      box-shadow: 0px 1px 3px 1px rgba(0, 0, 0, 0.15);\n",
              "      filter: drop-shadow(0px 1px 2px rgba(0, 0, 0, 0.3));\n",
              "      fill: #FFFFFF;\n",
              "    }\n",
              "  </style>\n",
              "\n",
              "      <script>\n",
              "        const buttonEl =\n",
              "          document.querySelector('#df-14a99634-352d-4714-9bc4-e866785d46b4 button.colab-df-convert');\n",
              "        buttonEl.style.display =\n",
              "          google.colab.kernel.accessAllowed ? 'block' : 'none';\n",
              "\n",
              "        async function convertToInteractive(key) {\n",
              "          const element = document.querySelector('#df-14a99634-352d-4714-9bc4-e866785d46b4');\n",
              "          const dataTable =\n",
              "            await google.colab.kernel.invokeFunction('convertToInteractive',\n",
              "                                                     [key], {});\n",
              "          if (!dataTable) return;\n",
              "\n",
              "          const docLinkHtml = 'Like what you see? Visit the ' +\n",
              "            '<a target=\"_blank\" href=https://colab.research.google.com/notebooks/data_table.ipynb>data table notebook</a>'\n",
              "            + ' to learn more about interactive tables.';\n",
              "          element.innerHTML = '';\n",
              "          dataTable['output_type'] = 'display_data';\n",
              "          await google.colab.output.renderOutput(dataTable, element);\n",
              "          const docLink = document.createElement('div');\n",
              "          docLink.innerHTML = docLinkHtml;\n",
              "          element.appendChild(docLink);\n",
              "        }\n",
              "      </script>\n",
              "    </div>\n",
              "  </div>\n",
              "  "
            ]
          },
          "metadata": {},
          "execution_count": 9
        }
      ]
    },
    {
      "cell_type": "markdown",
      "source": [
        "# Report"
      ],
      "metadata": {
        "id": "ikEU4IzHWw5y"
      }
    },
    {
      "cell_type": "markdown",
      "source": [
        "# What was the best month for sales? How much was earned that month?"
      ],
      "metadata": {
        "id": "ZVXLEELhXyWj"
      }
    },
    {
      "cell_type": "code",
      "source": [
        "df['Sales']= pd.to_numeric(df['Quantity Ordered'])*pd.to_numeric(df['Price Each'])\n",
        "temp = df.pop('Sales')\n",
        "df.insert(4,'Sales',temp)\n",
        "df.head()"
      ],
      "metadata": {
        "colab": {
          "base_uri": "https://localhost:8080/",
          "height": 201
        },
        "id": "NspN9fD0WzAs",
        "outputId": "670be59b-22df-40f0-d4a5-de2e62682bcb"
      },
      "execution_count": 10,
      "outputs": [
        {
          "output_type": "execute_result",
          "data": {
            "text/plain": [
              "  Order ID                Product Quantity Ordered Price Each   Sales  \\\n",
              "0   248151  AA Batteries (4-pack)                4       3.84   15.36   \n",
              "1   248152   USB-C Charging Cable                2      11.95   23.90   \n",
              "2   248153   USB-C Charging Cable                1      11.95   11.95   \n",
              "3   248154       27in FHD Monitor                1     149.99  149.99   \n",
              "4   248155   USB-C Charging Cable                1      11.95   11.95   \n",
              "\n",
              "       Order Date                       Purchase Address Month  \n",
              "0  09/17/19 14:44    380 North St, Los Angeles, CA 90001    09  \n",
              "1  09/29/19 10:19           511 8th St, Austin, TX 73301    09  \n",
              "2  09/16/19 17:48  151 Johnson St, Los Angeles, CA 90001    09  \n",
              "3  09/27/19 07:52      355 Hickory St, Seattle, WA 98101    09  \n",
              "4  09/01/19 19:03          125 5th St, Atlanta, GA 30301    09  "
            ],
            "text/html": [
              "\n",
              "  <div id=\"df-265e067a-cbb2-4a78-8352-a2e082dc4baf\">\n",
              "    <div class=\"colab-df-container\">\n",
              "      <div>\n",
              "<style scoped>\n",
              "    .dataframe tbody tr th:only-of-type {\n",
              "        vertical-align: middle;\n",
              "    }\n",
              "\n",
              "    .dataframe tbody tr th {\n",
              "        vertical-align: top;\n",
              "    }\n",
              "\n",
              "    .dataframe thead th {\n",
              "        text-align: right;\n",
              "    }\n",
              "</style>\n",
              "<table border=\"1\" class=\"dataframe\">\n",
              "  <thead>\n",
              "    <tr style=\"text-align: right;\">\n",
              "      <th></th>\n",
              "      <th>Order ID</th>\n",
              "      <th>Product</th>\n",
              "      <th>Quantity Ordered</th>\n",
              "      <th>Price Each</th>\n",
              "      <th>Sales</th>\n",
              "      <th>Order Date</th>\n",
              "      <th>Purchase Address</th>\n",
              "      <th>Month</th>\n",
              "    </tr>\n",
              "  </thead>\n",
              "  <tbody>\n",
              "    <tr>\n",
              "      <th>0</th>\n",
              "      <td>248151</td>\n",
              "      <td>AA Batteries (4-pack)</td>\n",
              "      <td>4</td>\n",
              "      <td>3.84</td>\n",
              "      <td>15.36</td>\n",
              "      <td>09/17/19 14:44</td>\n",
              "      <td>380 North St, Los Angeles, CA 90001</td>\n",
              "      <td>09</td>\n",
              "    </tr>\n",
              "    <tr>\n",
              "      <th>1</th>\n",
              "      <td>248152</td>\n",
              "      <td>USB-C Charging Cable</td>\n",
              "      <td>2</td>\n",
              "      <td>11.95</td>\n",
              "      <td>23.90</td>\n",
              "      <td>09/29/19 10:19</td>\n",
              "      <td>511 8th St, Austin, TX 73301</td>\n",
              "      <td>09</td>\n",
              "    </tr>\n",
              "    <tr>\n",
              "      <th>2</th>\n",
              "      <td>248153</td>\n",
              "      <td>USB-C Charging Cable</td>\n",
              "      <td>1</td>\n",
              "      <td>11.95</td>\n",
              "      <td>11.95</td>\n",
              "      <td>09/16/19 17:48</td>\n",
              "      <td>151 Johnson St, Los Angeles, CA 90001</td>\n",
              "      <td>09</td>\n",
              "    </tr>\n",
              "    <tr>\n",
              "      <th>3</th>\n",
              "      <td>248154</td>\n",
              "      <td>27in FHD Monitor</td>\n",
              "      <td>1</td>\n",
              "      <td>149.99</td>\n",
              "      <td>149.99</td>\n",
              "      <td>09/27/19 07:52</td>\n",
              "      <td>355 Hickory St, Seattle, WA 98101</td>\n",
              "      <td>09</td>\n",
              "    </tr>\n",
              "    <tr>\n",
              "      <th>4</th>\n",
              "      <td>248155</td>\n",
              "      <td>USB-C Charging Cable</td>\n",
              "      <td>1</td>\n",
              "      <td>11.95</td>\n",
              "      <td>11.95</td>\n",
              "      <td>09/01/19 19:03</td>\n",
              "      <td>125 5th St, Atlanta, GA 30301</td>\n",
              "      <td>09</td>\n",
              "    </tr>\n",
              "  </tbody>\n",
              "</table>\n",
              "</div>\n",
              "      <button class=\"colab-df-convert\" onclick=\"convertToInteractive('df-265e067a-cbb2-4a78-8352-a2e082dc4baf')\"\n",
              "              title=\"Convert this dataframe to an interactive table.\"\n",
              "              style=\"display:none;\">\n",
              "        \n",
              "  <svg xmlns=\"http://www.w3.org/2000/svg\" height=\"24px\"viewBox=\"0 0 24 24\"\n",
              "       width=\"24px\">\n",
              "    <path d=\"M0 0h24v24H0V0z\" fill=\"none\"/>\n",
              "    <path d=\"M18.56 5.44l.94 2.06.94-2.06 2.06-.94-2.06-.94-.94-2.06-.94 2.06-2.06.94zm-11 1L8.5 8.5l.94-2.06 2.06-.94-2.06-.94L8.5 2.5l-.94 2.06-2.06.94zm10 10l.94 2.06.94-2.06 2.06-.94-2.06-.94-.94-2.06-.94 2.06-2.06.94z\"/><path d=\"M17.41 7.96l-1.37-1.37c-.4-.4-.92-.59-1.43-.59-.52 0-1.04.2-1.43.59L10.3 9.45l-7.72 7.72c-.78.78-.78 2.05 0 2.83L4 21.41c.39.39.9.59 1.41.59.51 0 1.02-.2 1.41-.59l7.78-7.78 2.81-2.81c.8-.78.8-2.07 0-2.86zM5.41 20L4 18.59l7.72-7.72 1.47 1.35L5.41 20z\"/>\n",
              "  </svg>\n",
              "      </button>\n",
              "      \n",
              "  <style>\n",
              "    .colab-df-container {\n",
              "      display:flex;\n",
              "      flex-wrap:wrap;\n",
              "      gap: 12px;\n",
              "    }\n",
              "\n",
              "    .colab-df-convert {\n",
              "      background-color: #E8F0FE;\n",
              "      border: none;\n",
              "      border-radius: 50%;\n",
              "      cursor: pointer;\n",
              "      display: none;\n",
              "      fill: #1967D2;\n",
              "      height: 32px;\n",
              "      padding: 0 0 0 0;\n",
              "      width: 32px;\n",
              "    }\n",
              "\n",
              "    .colab-df-convert:hover {\n",
              "      background-color: #E2EBFA;\n",
              "      box-shadow: 0px 1px 2px rgba(60, 64, 67, 0.3), 0px 1px 3px 1px rgba(60, 64, 67, 0.15);\n",
              "      fill: #174EA6;\n",
              "    }\n",
              "\n",
              "    [theme=dark] .colab-df-convert {\n",
              "      background-color: #3B4455;\n",
              "      fill: #D2E3FC;\n",
              "    }\n",
              "\n",
              "    [theme=dark] .colab-df-convert:hover {\n",
              "      background-color: #434B5C;\n",
              "      box-shadow: 0px 1px 3px 1px rgba(0, 0, 0, 0.15);\n",
              "      filter: drop-shadow(0px 1px 2px rgba(0, 0, 0, 0.3));\n",
              "      fill: #FFFFFF;\n",
              "    }\n",
              "  </style>\n",
              "\n",
              "      <script>\n",
              "        const buttonEl =\n",
              "          document.querySelector('#df-265e067a-cbb2-4a78-8352-a2e082dc4baf button.colab-df-convert');\n",
              "        buttonEl.style.display =\n",
              "          google.colab.kernel.accessAllowed ? 'block' : 'none';\n",
              "\n",
              "        async function convertToInteractive(key) {\n",
              "          const element = document.querySelector('#df-265e067a-cbb2-4a78-8352-a2e082dc4baf');\n",
              "          const dataTable =\n",
              "            await google.colab.kernel.invokeFunction('convertToInteractive',\n",
              "                                                     [key], {});\n",
              "          if (!dataTable) return;\n",
              "\n",
              "          const docLinkHtml = 'Like what you see? Visit the ' +\n",
              "            '<a target=\"_blank\" href=https://colab.research.google.com/notebooks/data_table.ipynb>data table notebook</a>'\n",
              "            + ' to learn more about interactive tables.';\n",
              "          element.innerHTML = '';\n",
              "          dataTable['output_type'] = 'display_data';\n",
              "          await google.colab.output.renderOutput(dataTable, element);\n",
              "          const docLink = document.createElement('div');\n",
              "          docLink.innerHTML = docLinkHtml;\n",
              "          element.appendChild(docLink);\n",
              "        }\n",
              "      </script>\n",
              "    </div>\n",
              "  </div>\n",
              "  "
            ]
          },
          "metadata": {},
          "execution_count": 10
        }
      ]
    },
    {
      "cell_type": "code",
      "source": [
        "SalesOfMonth = df.groupby('Month').sum()['Sales']"
      ],
      "metadata": {
        "id": "OnVxpLTKa-V1"
      },
      "execution_count": 11,
      "outputs": []
    },
    {
      "cell_type": "code",
      "source": [
        "SalesOfMonth.max()"
      ],
      "metadata": {
        "colab": {
          "base_uri": "https://localhost:8080/"
        },
        "id": "xHokmHmnbj25",
        "outputId": "f86a6a40-2f16-43e5-bc00-070c1593a6a0"
      },
      "execution_count": 12,
      "outputs": [
        {
          "output_type": "execute_result",
          "data": {
            "text/plain": [
              "4613443.34"
            ]
          },
          "metadata": {},
          "execution_count": 12
        }
      ]
    },
    {
      "cell_type": "code",
      "source": [
        "months = range(1,13)\n",
        "plt.bar(x=months,height=SalesOfMonth)\n",
        "plt.xlabel('Months')\n",
        "plt.ylabel('Sales')\n",
        "plt.xticks(months)\n",
        "plt.show()"
      ],
      "metadata": {
        "colab": {
          "base_uri": "https://localhost:8080/",
          "height": 289
        },
        "id": "iHq7nCixcPC0",
        "outputId": "7ba4019b-31a4-42be-a465-54e1e456a054"
      },
      "execution_count": 13,
      "outputs": [
        {
          "output_type": "display_data",
          "data": {
            "text/plain": [
              "<Figure size 432x288 with 1 Axes>"
            ],
            "image/png": "[encoded data removed]"
          },
          "metadata": {
            "needs_background": "light"
          }
        }
      ]
    },
    {
      "cell_type": "markdown",
      "source": [
        "# What city has the best sales?\n"
      ],
      "metadata": {
        "id": "rgGZA3EFemCS"
      }
    },
    {
      "cell_type": "code",
      "source": [
        "df['City'] =df['Purchase Address'].apply(lambda address:address.split(',')[1])"
      ],
      "metadata": {
        "id": "tAmLt12ge4tP"
      },
      "execution_count": 14,
      "outputs": []
    },
    {
      "cell_type": "code",
      "source": [
        "temp = df.groupby('City').sum()['Sales']"
      ],
      "metadata": {
        "id": "Sg3yOBltidx7"
      },
      "execution_count": 15,
      "outputs": []
    },
    {
      "cell_type": "code",
      "source": [
        "cities = []\n",
        "for city, value in temp.items():\n",
        "  cities.append(city)\n",
        "plt.bar(x=cities,height=temp)\n",
        "plt.xticks(rotation=90)\n",
        "plt.xlabel('City')\n",
        "plt.ylabel('Sales')\n",
        "plt.show()"
      ],
      "metadata": {
        "colab": {
          "base_uri": "https://localhost:8080/",
          "height": 351
        },
        "id": "NC2nEmhhi08E",
        "outputId": "f0a81c1b-8117-4b9a-ad67-d93052841b2d"
      },
      "execution_count": 16,
      "outputs": [
        {
          "output_type": "display_data",
          "data": {
            "text/plain": [
              "<Figure size 432x288 with 1 Axes>"
            ],
            "image/png": "[encoded data removed]"
          },
          "metadata": {
            "needs_background": "light"
          }
        }
      ]
    },
    {
      "cell_type": "markdown",
      "source": [
        "# What time should we display ads to maximize the likelihood of customer’s buying product?"
      ],
      "metadata": {
        "id": "-Q2vK1u6mA_J"
      }
    },
    {
      "cell_type": "code",
      "source": [
        "df['Order Date'] = pd.to_datetime(df['Order Date'])\n",
        "df['Hours'] = df['Order Date'].dt.hour\n",
        "sales_value_hours = df.groupby('Hours').count()['Sales']\n",
        "hours = [hour for hour, sales in sales_value_hours.items()]\n",
        "plt.plot(hours, sales_value_hours)\n",
        "plt.grid()\n",
        "plt.xticks(hours, rotation=90, size=8)\n",
        "plt.xlabel('Hours')\n",
        "plt.ylabel('Sales in USD')\n",
        "plt.show()"
      ],
      "metadata": {
        "colab": {
          "base_uri": "https://localhost:8080/",
          "height": 280
        },
        "id": "ukU8uFrsmDSV",
        "outputId": "95a0eba4-dee8-4b64-bac9-7562e78e1daa"
      },
      "execution_count": 17,
      "outputs": [
        {
          "output_type": "display_data",
          "data": {
            "text/plain": [
              "<Figure size 432x288 with 1 Axes>"
            ],
            "image/png": "[encoded data removed]"
          },
          "metadata": {
            "needs_background": "light"
          }
        }
      ]
    },
    {
      "cell_type": "markdown",
      "source": [
        "# What product sold the most? Why do you think it sold the most?"
      ],
      "metadata": {
        "id": "YCXnoJAJpE8L"
      }
    },
    {
      "cell_type": "code",
      "source": [
        "df['Quantity Ordered'] = pd.to_numeric(df['Quantity Ordered'])\n",
        "df['Price Each'] = pd.to_numeric(df['Price Each'])"
      ],
      "metadata": {
        "id": "Vszi74fGqyYP"
      },
      "execution_count": 18,
      "outputs": []
    },
    {
      "cell_type": "code",
      "source": [
        "all_products = df.groupby('Product').sum()['Quantity Ordered']\n",
        "prices = df.groupby('Product').mean()['Price Each']\n",
        "products_ls = [product for product, quant in all_products.items()]\n",
        "\n",
        "x = products_ls\n",
        "y1 = all_products\n",
        "y2 = prices\n",
        "\n",
        "fig, ax1 = plt.subplots()\n",
        "\n",
        "ax2 = ax1.twinx()\n",
        "ax1.bar(x, y1, color='g')\n",
        "ax2.plot(x, y2, 'b-')\n",
        "\n",
        "ax1.set_xticklabels(products_ls, rotation=90, size=8)\n",
        "ax1.set_xlabel('Products')\n",
        "ax1.set_ylabel('Quantity Ordered', color='g')\n",
        "ax2.set_ylabel('Price Each', color='b')\n",
        "\n",
        "plt.show()"
      ],
      "metadata": {
        "colab": {
          "base_uri": "https://localhost:8080/",
          "height": 390
        },
        "id": "cN4xsEA7pGQ-",
        "outputId": "e6fef209-d2a9-4e4a-9183-4b93bcb548fc"
      },
      "execution_count": 19,
      "outputs": [
        {
          "output_type": "display_data",
          "data": {
            "text/plain": [
              "<Figure size 432x288 with 2 Axes>"
            ],
            "image/png": "[encoded data removed]"
          },
          "metadata": {
            "needs_background": "light"
          }
        }
      ]
    }
  ]
}